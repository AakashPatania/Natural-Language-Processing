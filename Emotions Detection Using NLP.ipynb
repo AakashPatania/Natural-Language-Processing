{
 "cells": [
  {
   "cell_type": "code",
   "execution_count": 1,
   "id": "c39779df-fb8e-4dc5-a18c-9de58d4b0b0f",
   "metadata": {},
   "outputs": [],
   "source": [
    "import pandas as pd\n",
    "import numpy as np\n",
    "from sklearn.model_selection import train_test_split\n",
    "from sklearn.feature_extraction.text import CountVectorizer\n",
    "from sklearn.ensemble import RandomForestClassifier\n",
    "from  sklearn.neighbors import KNeighborsClassifier\n",
    "from sklearn.naive_bayes import MultinomialNB\n",
    "from sklearn.pipeline import Pipeline\n",
    "from sklearn.metrics import classification_report\n",
    "pd.pandas.set_option('display.max_columns',None)\n",
    "\n",
    "\n",
    "df_train = pd.read_csv(\"train.txt\", delimiter=';', header=None, names=['Text', 'Emotion'])\n",
    "\n"
   ]
  },
  {
   "cell_type": "code",
   "execution_count": 2,
   "id": "4b5e7c9b-0577-46f7-a1b4-51d65b96e537",
   "metadata": {},
   "outputs": [
    {
     "name": "stdout",
     "output_type": "stream",
     "text": [
      "(16000, 2)\n"
     ]
    },
    {
     "data": {
      "text/html": [
       "<div>\n",
       "<style scoped>\n",
       "    .dataframe tbody tr th:only-of-type {\n",
       "        vertical-align: middle;\n",
       "    }\n",
       "\n",
       "    .dataframe tbody tr th {\n",
       "        vertical-align: top;\n",
       "    }\n",
       "\n",
       "    .dataframe thead th {\n",
       "        text-align: right;\n",
       "    }\n",
       "</style>\n",
       "<table border=\"1\" class=\"dataframe\">\n",
       "  <thead>\n",
       "    <tr style=\"text-align: right;\">\n",
       "      <th></th>\n",
       "      <th>Text</th>\n",
       "      <th>Emotion</th>\n",
       "    </tr>\n",
       "  </thead>\n",
       "  <tbody>\n",
       "    <tr>\n",
       "      <th>0</th>\n",
       "      <td>i didnt feel humiliated</td>\n",
       "      <td>sadness</td>\n",
       "    </tr>\n",
       "    <tr>\n",
       "      <th>1</th>\n",
       "      <td>i can go from feeling so hopeless to so damned...</td>\n",
       "      <td>sadness</td>\n",
       "    </tr>\n",
       "    <tr>\n",
       "      <th>2</th>\n",
       "      <td>im grabbing a minute to post i feel greedy wrong</td>\n",
       "      <td>anger</td>\n",
       "    </tr>\n",
       "    <tr>\n",
       "      <th>3</th>\n",
       "      <td>i am ever feeling nostalgic about the fireplac...</td>\n",
       "      <td>love</td>\n",
       "    </tr>\n",
       "    <tr>\n",
       "      <th>4</th>\n",
       "      <td>i am feeling grouchy</td>\n",
       "      <td>anger</td>\n",
       "    </tr>\n",
       "  </tbody>\n",
       "</table>\n",
       "</div>"
      ],
      "text/plain": [
       "                                                Text  Emotion\n",
       "0                            i didnt feel humiliated  sadness\n",
       "1  i can go from feeling so hopeless to so damned...  sadness\n",
       "2   im grabbing a minute to post i feel greedy wrong    anger\n",
       "3  i am ever feeling nostalgic about the fireplac...     love\n",
       "4                               i am feeling grouchy    anger"
      ]
     },
     "execution_count": 2,
     "metadata": {},
     "output_type": "execute_result"
    }
   ],
   "source": [
    "print(df_train.shape)\n",
    "df_train.head()"
   ]
  },
  {
   "cell_type": "code",
   "execution_count": 3,
   "id": "0a1a90ae-af02-447c-b39a-7be216a5b962",
   "metadata": {},
   "outputs": [],
   "source": [
    "df_test = pd.read_csv(\"test.txt\", delimiter = ';', header=None, names = ['Text', 'Emotion'])"
   ]
  },
  {
   "cell_type": "code",
   "execution_count": 4,
   "id": "87fc094e-919b-4925-a9f7-704548212646",
   "metadata": {},
   "outputs": [
    {
     "name": "stdout",
     "output_type": "stream",
     "text": [
      "(2000, 2)\n"
     ]
    },
    {
     "data": {
      "text/html": [
       "<div>\n",
       "<style scoped>\n",
       "    .dataframe tbody tr th:only-of-type {\n",
       "        vertical-align: middle;\n",
       "    }\n",
       "\n",
       "    .dataframe tbody tr th {\n",
       "        vertical-align: top;\n",
       "    }\n",
       "\n",
       "    .dataframe thead th {\n",
       "        text-align: right;\n",
       "    }\n",
       "</style>\n",
       "<table border=\"1\" class=\"dataframe\">\n",
       "  <thead>\n",
       "    <tr style=\"text-align: right;\">\n",
       "      <th></th>\n",
       "      <th>Text</th>\n",
       "      <th>Emotion</th>\n",
       "    </tr>\n",
       "  </thead>\n",
       "  <tbody>\n",
       "    <tr>\n",
       "      <th>0</th>\n",
       "      <td>im feeling rather rotten so im not very ambiti...</td>\n",
       "      <td>sadness</td>\n",
       "    </tr>\n",
       "    <tr>\n",
       "      <th>1</th>\n",
       "      <td>im updating my blog because i feel shitty</td>\n",
       "      <td>sadness</td>\n",
       "    </tr>\n",
       "    <tr>\n",
       "      <th>2</th>\n",
       "      <td>i never make her separate from me because i do...</td>\n",
       "      <td>sadness</td>\n",
       "    </tr>\n",
       "    <tr>\n",
       "      <th>3</th>\n",
       "      <td>i left with my bouquet of red and yellow tulip...</td>\n",
       "      <td>joy</td>\n",
       "    </tr>\n",
       "    <tr>\n",
       "      <th>4</th>\n",
       "      <td>i was feeling a little vain when i did this one</td>\n",
       "      <td>sadness</td>\n",
       "    </tr>\n",
       "  </tbody>\n",
       "</table>\n",
       "</div>"
      ],
      "text/plain": [
       "                                                Text  Emotion\n",
       "0  im feeling rather rotten so im not very ambiti...  sadness\n",
       "1          im updating my blog because i feel shitty  sadness\n",
       "2  i never make her separate from me because i do...  sadness\n",
       "3  i left with my bouquet of red and yellow tulip...      joy\n",
       "4    i was feeling a little vain when i did this one  sadness"
      ]
     },
     "execution_count": 4,
     "metadata": {},
     "output_type": "execute_result"
    }
   ],
   "source": [
    "\n",
    "print(df_test.shape)\n",
    "df_test.head()"
   ]
  },
  {
   "cell_type": "code",
   "execution_count": 5,
   "id": "03846a59-9630-48d9-92cd-c53077c1216e",
   "metadata": {},
   "outputs": [
    {
     "name": "stdout",
     "output_type": "stream",
     "text": [
      "(2000, 2)\n"
     ]
    },
    {
     "data": {
      "text/html": [
       "<div>\n",
       "<style scoped>\n",
       "    .dataframe tbody tr th:only-of-type {\n",
       "        vertical-align: middle;\n",
       "    }\n",
       "\n",
       "    .dataframe tbody tr th {\n",
       "        vertical-align: top;\n",
       "    }\n",
       "\n",
       "    .dataframe thead th {\n",
       "        text-align: right;\n",
       "    }\n",
       "</style>\n",
       "<table border=\"1\" class=\"dataframe\">\n",
       "  <thead>\n",
       "    <tr style=\"text-align: right;\">\n",
       "      <th></th>\n",
       "      <th>Text</th>\n",
       "      <th>Emotion</th>\n",
       "    </tr>\n",
       "  </thead>\n",
       "  <tbody>\n",
       "    <tr>\n",
       "      <th>0</th>\n",
       "      <td>im feeling quite sad and sorry for myself but ...</td>\n",
       "      <td>sadness</td>\n",
       "    </tr>\n",
       "    <tr>\n",
       "      <th>1</th>\n",
       "      <td>i feel like i am still looking at a blank canv...</td>\n",
       "      <td>sadness</td>\n",
       "    </tr>\n",
       "    <tr>\n",
       "      <th>2</th>\n",
       "      <td>i feel like a faithful servant</td>\n",
       "      <td>love</td>\n",
       "    </tr>\n",
       "    <tr>\n",
       "      <th>3</th>\n",
       "      <td>i am just feeling cranky and blue</td>\n",
       "      <td>anger</td>\n",
       "    </tr>\n",
       "    <tr>\n",
       "      <th>4</th>\n",
       "      <td>i can have for a treat or if i am feeling festive</td>\n",
       "      <td>joy</td>\n",
       "    </tr>\n",
       "  </tbody>\n",
       "</table>\n",
       "</div>"
      ],
      "text/plain": [
       "                                                Text  Emotion\n",
       "0  im feeling quite sad and sorry for myself but ...  sadness\n",
       "1  i feel like i am still looking at a blank canv...  sadness\n",
       "2                     i feel like a faithful servant     love\n",
       "3                  i am just feeling cranky and blue    anger\n",
       "4  i can have for a treat or if i am feeling festive      joy"
      ]
     },
     "execution_count": 5,
     "metadata": {},
     "output_type": "execute_result"
    }
   ],
   "source": [
    "df_val = pd.read_csv(\"val.txt\", delimiter = ';', header=None, names = ['Text', 'Emotion'])\n",
    "print(df_val.shape)\n",
    "df_val.head()"
   ]
  },
  {
   "cell_type": "code",
   "execution_count": 6,
   "id": "17fbf3e7-74da-491b-820d-5eb07b542791",
   "metadata": {},
   "outputs": [],
   "source": [
    "Result_df = pd.concat([df_train,df_test])"
   ]
  },
  {
   "cell_type": "code",
   "execution_count": 7,
   "id": "b8decdf8-317c-4cb0-83b9-e66a6cc7a8b8",
   "metadata": {},
   "outputs": [
    {
     "name": "stdout",
     "output_type": "stream",
     "text": [
      "(18000, 2)\n"
     ]
    },
    {
     "data": {
      "text/html": [
       "<div>\n",
       "<style scoped>\n",
       "    .dataframe tbody tr th:only-of-type {\n",
       "        vertical-align: middle;\n",
       "    }\n",
       "\n",
       "    .dataframe tbody tr th {\n",
       "        vertical-align: top;\n",
       "    }\n",
       "\n",
       "    .dataframe thead th {\n",
       "        text-align: right;\n",
       "    }\n",
       "</style>\n",
       "<table border=\"1\" class=\"dataframe\">\n",
       "  <thead>\n",
       "    <tr style=\"text-align: right;\">\n",
       "      <th></th>\n",
       "      <th>Text</th>\n",
       "      <th>Emotion</th>\n",
       "    </tr>\n",
       "  </thead>\n",
       "  <tbody>\n",
       "    <tr>\n",
       "      <th>0</th>\n",
       "      <td>i didnt feel humiliated</td>\n",
       "      <td>sadness</td>\n",
       "    </tr>\n",
       "    <tr>\n",
       "      <th>1</th>\n",
       "      <td>i can go from feeling so hopeless to so damned...</td>\n",
       "      <td>sadness</td>\n",
       "    </tr>\n",
       "    <tr>\n",
       "      <th>2</th>\n",
       "      <td>im grabbing a minute to post i feel greedy wrong</td>\n",
       "      <td>anger</td>\n",
       "    </tr>\n",
       "    <tr>\n",
       "      <th>3</th>\n",
       "      <td>i am ever feeling nostalgic about the fireplac...</td>\n",
       "      <td>love</td>\n",
       "    </tr>\n",
       "    <tr>\n",
       "      <th>4</th>\n",
       "      <td>i am feeling grouchy</td>\n",
       "      <td>anger</td>\n",
       "    </tr>\n",
       "  </tbody>\n",
       "</table>\n",
       "</div>"
      ],
      "text/plain": [
       "                                                Text  Emotion\n",
       "0                            i didnt feel humiliated  sadness\n",
       "1  i can go from feeling so hopeless to so damned...  sadness\n",
       "2   im grabbing a minute to post i feel greedy wrong    anger\n",
       "3  i am ever feeling nostalgic about the fireplac...     love\n",
       "4                               i am feeling grouchy    anger"
      ]
     },
     "execution_count": 7,
     "metadata": {},
     "output_type": "execute_result"
    }
   ],
   "source": [
    "print(Result_df.shape)\n",
    "Result_df.head()"
   ]
  },
  {
   "cell_type": "code",
   "execution_count": 8,
   "id": "3d681f90-260a-4641-9b8f-462868295081",
   "metadata": {},
   "outputs": [
    {
     "name": "stdout",
     "output_type": "stream",
     "text": [
      "(20000, 2)\n"
     ]
    },
    {
     "data": {
      "text/html": [
       "<div>\n",
       "<style scoped>\n",
       "    .dataframe tbody tr th:only-of-type {\n",
       "        vertical-align: middle;\n",
       "    }\n",
       "\n",
       "    .dataframe tbody tr th {\n",
       "        vertical-align: top;\n",
       "    }\n",
       "\n",
       "    .dataframe thead th {\n",
       "        text-align: right;\n",
       "    }\n",
       "</style>\n",
       "<table border=\"1\" class=\"dataframe\">\n",
       "  <thead>\n",
       "    <tr style=\"text-align: right;\">\n",
       "      <th></th>\n",
       "      <th>Text</th>\n",
       "      <th>Emotion</th>\n",
       "    </tr>\n",
       "  </thead>\n",
       "  <tbody>\n",
       "    <tr>\n",
       "      <th>0</th>\n",
       "      <td>i didnt feel humiliated</td>\n",
       "      <td>sadness</td>\n",
       "    </tr>\n",
       "    <tr>\n",
       "      <th>1</th>\n",
       "      <td>i can go from feeling so hopeless to so damned...</td>\n",
       "      <td>sadness</td>\n",
       "    </tr>\n",
       "    <tr>\n",
       "      <th>2</th>\n",
       "      <td>im grabbing a minute to post i feel greedy wrong</td>\n",
       "      <td>anger</td>\n",
       "    </tr>\n",
       "    <tr>\n",
       "      <th>3</th>\n",
       "      <td>i am ever feeling nostalgic about the fireplac...</td>\n",
       "      <td>love</td>\n",
       "    </tr>\n",
       "    <tr>\n",
       "      <th>4</th>\n",
       "      <td>i am feeling grouchy</td>\n",
       "      <td>anger</td>\n",
       "    </tr>\n",
       "  </tbody>\n",
       "</table>\n",
       "</div>"
      ],
      "text/plain": [
       "                                                Text  Emotion\n",
       "0                            i didnt feel humiliated  sadness\n",
       "1  i can go from feeling so hopeless to so damned...  sadness\n",
       "2   im grabbing a minute to post i feel greedy wrong    anger\n",
       "3  i am ever feeling nostalgic about the fireplac...     love\n",
       "4                               i am feeling grouchy    anger"
      ]
     },
     "execution_count": 8,
     "metadata": {},
     "output_type": "execute_result"
    }
   ],
   "source": [
    "Result = pd.concat([Result_df,df_val])\n",
    "print(Result.shape)\n",
    "Result.head()"
   ]
  },
  {
   "cell_type": "code",
   "execution_count": 9,
   "id": "a9cee0ca-aa5f-4f76-936e-b0555c84c024",
   "metadata": {},
   "outputs": [
    {
     "data": {
      "text/plain": [
       "joy         6761\n",
       "sadness     5797\n",
       "anger       2709\n",
       "fear        2373\n",
       "love        1641\n",
       "surprise     719\n",
       "Name: Emotion, dtype: int64"
      ]
     },
     "execution_count": 9,
     "metadata": {},
     "output_type": "execute_result"
    }
   ],
   "source": [
    "Result['Emotion'].value_counts()"
   ]
  },
  {
   "cell_type": "code",
   "execution_count": null,
   "id": "e0d96dbc-fbce-4d7c-a0a5-b0217aa7c76e",
   "metadata": {},
   "outputs": [],
   "source": []
  },
  {
   "cell_type": "code",
   "execution_count": 10,
   "id": "6131211a-241e-431e-87ce-a35ad4e59a36",
   "metadata": {},
   "outputs": [
    {
     "data": {
      "text/html": [
       "<div>\n",
       "<style scoped>\n",
       "    .dataframe tbody tr th:only-of-type {\n",
       "        vertical-align: middle;\n",
       "    }\n",
       "\n",
       "    .dataframe tbody tr th {\n",
       "        vertical-align: top;\n",
       "    }\n",
       "\n",
       "    .dataframe thead th {\n",
       "        text-align: right;\n",
       "    }\n",
       "</style>\n",
       "<table border=\"1\" class=\"dataframe\">\n",
       "  <thead>\n",
       "    <tr style=\"text-align: right;\">\n",
       "      <th></th>\n",
       "      <th>Text</th>\n",
       "      <th>Emotion</th>\n",
       "      <th>Emotion_value</th>\n",
       "    </tr>\n",
       "  </thead>\n",
       "  <tbody>\n",
       "    <tr>\n",
       "      <th>0</th>\n",
       "      <td>i didnt feel humiliated</td>\n",
       "      <td>sadness</td>\n",
       "      <td>1</td>\n",
       "    </tr>\n",
       "    <tr>\n",
       "      <th>1</th>\n",
       "      <td>i can go from feeling so hopeless to so damned...</td>\n",
       "      <td>sadness</td>\n",
       "      <td>1</td>\n",
       "    </tr>\n",
       "    <tr>\n",
       "      <th>2</th>\n",
       "      <td>im grabbing a minute to post i feel greedy wrong</td>\n",
       "      <td>anger</td>\n",
       "      <td>2</td>\n",
       "    </tr>\n",
       "    <tr>\n",
       "      <th>3</th>\n",
       "      <td>i am ever feeling nostalgic about the fireplac...</td>\n",
       "      <td>love</td>\n",
       "      <td>4</td>\n",
       "    </tr>\n",
       "    <tr>\n",
       "      <th>4</th>\n",
       "      <td>i am feeling grouchy</td>\n",
       "      <td>anger</td>\n",
       "      <td>2</td>\n",
       "    </tr>\n",
       "  </tbody>\n",
       "</table>\n",
       "</div>"
      ],
      "text/plain": [
       "                                                Text  Emotion  Emotion_value\n",
       "0                            i didnt feel humiliated  sadness              1\n",
       "1  i can go from feeling so hopeless to so damned...  sadness              1\n",
       "2   im grabbing a minute to post i feel greedy wrong    anger              2\n",
       "3  i am ever feeling nostalgic about the fireplac...     love              4\n",
       "4                               i am feeling grouchy    anger              2"
      ]
     },
     "execution_count": 10,
     "metadata": {},
     "output_type": "execute_result"
    }
   ],
   "source": [
    "Result['Emotion_value'] = Result['Emotion'].map({\n",
    "    'joy':0,\n",
    "    'sadness':1,\n",
    "    'anger':2,\n",
    "    'fear':3,\n",
    "    'love':4,\n",
    "    'surprise':5\n",
    "})\n",
    "\n",
    "Result.head()\n",
    "    "
   ]
  },
  {
   "cell_type": "code",
   "execution_count": 11,
   "id": "24064107-f30c-4c2b-ad30-98107f196852",
   "metadata": {},
   "outputs": [
    {
     "data": {
      "text/plain": [
       "0    6761\n",
       "1    5797\n",
       "2    2709\n",
       "3    2373\n",
       "4    1641\n",
       "5     719\n",
       "Name: Emotion_value, dtype: int64"
      ]
     },
     "execution_count": 11,
     "metadata": {},
     "output_type": "execute_result"
    }
   ],
   "source": [
    "Result['Emotion_value'].value_counts()"
   ]
  },
  {
   "cell_type": "code",
   "execution_count": 12,
   "id": "e2c6493b-d9e6-450a-9c33-e1aff90d5cbd",
   "metadata": {},
   "outputs": [],
   "source": [
    "import spacy\n",
    "\n",
    "# load english language model and create nlp object from it\n",
    "nlp = spacy.load(\"en_core_web_sm\") \n",
    "\n",
    "def preprocess(text):\n",
    "    # remove stop words and lemmatize the text\n",
    "    doc = nlp(text)\n",
    "    filtered_tokens = []\n",
    "    for token in doc:\n",
    "        if token.is_stop or token.is_punct:\n",
    "            continue\n",
    "        filtered_tokens.append(token.lemma_)\n",
    "    \n",
    "    return \" \".join(filtered_tokens) \n",
    "    \n",
    "\n",
    "Result['Preprocess_Text'] = Result['Text'].apply(preprocess)"
   ]
  },
  {
   "cell_type": "code",
   "execution_count": 13,
   "id": "4ecdb521-2bee-433d-af3e-aeec379654d6",
   "metadata": {},
   "outputs": [
    {
     "data": {
      "text/plain": [
       "joy         6761\n",
       "sadness     5797\n",
       "anger       2709\n",
       "fear        2373\n",
       "love        1641\n",
       "surprise     719\n",
       "Name: Emotion, dtype: int64"
      ]
     },
     "execution_count": 13,
     "metadata": {},
     "output_type": "execute_result"
    }
   ],
   "source": [
    "Result['Emotion'].value_counts()"
   ]
  },
  {
   "cell_type": "code",
   "execution_count": 14,
   "id": "e3b71090-6711-4c93-bd2f-813e7d31be05",
   "metadata": {},
   "outputs": [
    {
     "data": {
      "text/plain": [
       "dtype('int64')"
      ]
     },
     "execution_count": 14,
     "metadata": {},
     "output_type": "execute_result"
    }
   ],
   "source": [
    "Result['Emotion_value'].dtypes"
   ]
  },
  {
   "cell_type": "code",
   "execution_count": 15,
   "id": "05b8179b-b02a-40c6-bb75-8465625c424e",
   "metadata": {},
   "outputs": [
    {
     "data": {
      "text/html": [
       "<div>\n",
       "<style scoped>\n",
       "    .dataframe tbody tr th:only-of-type {\n",
       "        vertical-align: middle;\n",
       "    }\n",
       "\n",
       "    .dataframe tbody tr th {\n",
       "        vertical-align: top;\n",
       "    }\n",
       "\n",
       "    .dataframe thead th {\n",
       "        text-align: right;\n",
       "    }\n",
       "</style>\n",
       "<table border=\"1\" class=\"dataframe\">\n",
       "  <thead>\n",
       "    <tr style=\"text-align: right;\">\n",
       "      <th></th>\n",
       "      <th>Text</th>\n",
       "      <th>Emotion</th>\n",
       "      <th>Emotion_value</th>\n",
       "      <th>Preprocess_Text</th>\n",
       "    </tr>\n",
       "  </thead>\n",
       "  <tbody>\n",
       "    <tr>\n",
       "      <th>0</th>\n",
       "      <td>i didnt feel humiliated</td>\n",
       "      <td>sadness</td>\n",
       "      <td>1</td>\n",
       "      <td>not feel humiliate</td>\n",
       "    </tr>\n",
       "    <tr>\n",
       "      <th>1</th>\n",
       "      <td>i can go from feeling so hopeless to so damned...</td>\n",
       "      <td>sadness</td>\n",
       "      <td>1</td>\n",
       "      <td>feel hopeless damned hopeful care awake</td>\n",
       "    </tr>\n",
       "    <tr>\n",
       "      <th>2</th>\n",
       "      <td>im grabbing a minute to post i feel greedy wrong</td>\n",
       "      <td>anger</td>\n",
       "      <td>2</td>\n",
       "      <td>m grab minute post feel greedy wrong</td>\n",
       "    </tr>\n",
       "    <tr>\n",
       "      <th>3</th>\n",
       "      <td>i am ever feeling nostalgic about the fireplac...</td>\n",
       "      <td>love</td>\n",
       "      <td>4</td>\n",
       "      <td>feel nostalgic fireplace know property</td>\n",
       "    </tr>\n",
       "    <tr>\n",
       "      <th>4</th>\n",
       "      <td>i am feeling grouchy</td>\n",
       "      <td>anger</td>\n",
       "      <td>2</td>\n",
       "      <td>feel grouchy</td>\n",
       "    </tr>\n",
       "  </tbody>\n",
       "</table>\n",
       "</div>"
      ],
      "text/plain": [
       "                                                Text  Emotion  Emotion_value  \\\n",
       "0                            i didnt feel humiliated  sadness              1   \n",
       "1  i can go from feeling so hopeless to so damned...  sadness              1   \n",
       "2   im grabbing a minute to post i feel greedy wrong    anger              2   \n",
       "3  i am ever feeling nostalgic about the fireplac...     love              4   \n",
       "4                               i am feeling grouchy    anger              2   \n",
       "\n",
       "                           Preprocess_Text  \n",
       "0                       not feel humiliate  \n",
       "1  feel hopeless damned hopeful care awake  \n",
       "2     m grab minute post feel greedy wrong  \n",
       "3   feel nostalgic fireplace know property  \n",
       "4                             feel grouchy  "
      ]
     },
     "execution_count": 15,
     "metadata": {},
     "output_type": "execute_result"
    }
   ],
   "source": [
    "Result.head()"
   ]
  },
  {
   "cell_type": "code",
   "execution_count": 28,
   "id": "175d3355-e9f6-4a15-857d-a8c757af377b",
   "metadata": {},
   "outputs": [],
   "source": [
    "Result_ = Result[['Preprocess_Text', 'Emotion_value']].copy()\n"
   ]
  },
  {
   "cell_type": "code",
   "execution_count": 29,
   "id": "31dac8c3-d88d-4c8b-9d79-666c48eae799",
   "metadata": {},
   "outputs": [
    {
     "data": {
      "text/html": [
       "<div>\n",
       "<style scoped>\n",
       "    .dataframe tbody tr th:only-of-type {\n",
       "        vertical-align: middle;\n",
       "    }\n",
       "\n",
       "    .dataframe tbody tr th {\n",
       "        vertical-align: top;\n",
       "    }\n",
       "\n",
       "    .dataframe thead th {\n",
       "        text-align: right;\n",
       "    }\n",
       "</style>\n",
       "<table border=\"1\" class=\"dataframe\">\n",
       "  <thead>\n",
       "    <tr style=\"text-align: right;\">\n",
       "      <th></th>\n",
       "      <th>Preprocess_Text</th>\n",
       "      <th>Emotion_value</th>\n",
       "    </tr>\n",
       "  </thead>\n",
       "  <tbody>\n",
       "    <tr>\n",
       "      <th>0</th>\n",
       "      <td>not feel humiliate</td>\n",
       "      <td>1</td>\n",
       "    </tr>\n",
       "    <tr>\n",
       "      <th>1</th>\n",
       "      <td>feel hopeless damned hopeful care awake</td>\n",
       "      <td>1</td>\n",
       "    </tr>\n",
       "    <tr>\n",
       "      <th>2</th>\n",
       "      <td>m grab minute post feel greedy wrong</td>\n",
       "      <td>2</td>\n",
       "    </tr>\n",
       "    <tr>\n",
       "      <th>3</th>\n",
       "      <td>feel nostalgic fireplace know property</td>\n",
       "      <td>4</td>\n",
       "    </tr>\n",
       "    <tr>\n",
       "      <th>4</th>\n",
       "      <td>feel grouchy</td>\n",
       "      <td>2</td>\n",
       "    </tr>\n",
       "  </tbody>\n",
       "</table>\n",
       "</div>"
      ],
      "text/plain": [
       "                           Preprocess_Text  Emotion_value\n",
       "0                       not feel humiliate              1\n",
       "1  feel hopeless damned hopeful care awake              1\n",
       "2     m grab minute post feel greedy wrong              2\n",
       "3   feel nostalgic fireplace know property              4\n",
       "4                             feel grouchy              2"
      ]
     },
     "execution_count": 29,
     "metadata": {},
     "output_type": "execute_result"
    }
   ],
   "source": [
    "Result_.head()"
   ]
  },
  {
   "cell_type": "code",
   "execution_count": 31,
   "id": "20232d9f-8590-48d9-b1a0-e2f96174cbeb",
   "metadata": {},
   "outputs": [
    {
     "data": {
      "text/plain": [
       "0    6761\n",
       "1    5797\n",
       "2    2709\n",
       "3    2373\n",
       "4    1641\n",
       "5     719\n",
       "Name: Emotion_value, dtype: int64"
      ]
     },
     "execution_count": 31,
     "metadata": {},
     "output_type": "execute_result"
    }
   ],
   "source": [
    "Result_['Emotion_value'].value_counts()"
   ]
  },
  {
   "cell_type": "code",
   "execution_count": 32,
   "id": "4bf5e080-d324-4063-8a8e-864c10360f15",
   "metadata": {},
   "outputs": [
    {
     "data": {
      "text/plain": [
       "Preprocess_Text    object\n",
       "Emotion_value       int64\n",
       "dtype: object"
      ]
     },
     "execution_count": 32,
     "metadata": {},
     "output_type": "execute_result"
    }
   ],
   "source": [
    "Result_.dtypes"
   ]
  },
  {
   "cell_type": "code",
   "execution_count": 34,
   "id": "4a47a660-e7e7-4f69-9f10-228c7b4ef664",
   "metadata": {},
   "outputs": [
    {
     "name": "stdout",
     "output_type": "stream",
     "text": [
      "                                                       0\n",
      "0        (0, 4245)\\t1\\n  (0, 5591)\\t1\\n  (0, 8028)\\t1...\n",
      "1        (0, 812)\\t1\\n  (0, 1672)\\t1\\n  (0, 2754)\\t1\\...\n",
      "2        (0, 4245)\\t1\\n  (0, 4957)\\t1\\n  (0, 5011)\\t1...\n",
      "3        (0, 4245)\\t1\\n  (0, 4355)\\t1\\n  (0, 6521)\\t1...\n",
      "4          (0, 4245)\\t1\\n  (0, 5046)\\t1\\n  (0, 13289)\\t2\n",
      "...                                                  ...\n",
      "19995    (0, 2165)\\t1\\n  (0, 4000)\\t3\\n  (0, 4001)\\t1...\n",
      "19996    (0, 1287)\\t1\\n  (0, 2371)\\t1\\n  (0, 3051)\\t1...\n",
      "19997    (0, 4072)\\t1\\n  (0, 4245)\\t1\\n  (0, 5754)\\t1...\n",
      "19998    (0, 4245)\\t1\\n  (0, 8541)\\t1\\n  (0, 11118)\\t...\n",
      "19999    (0, 1563)\\t1\\n  (0, 2711)\\t1\\n  (0, 4245)\\t1...\n",
      "\n",
      "[20000 rows x 1 columns]\n"
     ]
    }
   ],
   "source": [
    "from sklearn.feature_extraction.text import CountVectorizer\n",
    "from sklearn.compose import ColumnTransformer\n",
    "import pandas as pd\n",
    "\n",
    "# Assuming 'data' is your DataFrame with 'Text' and 'Emotion' columns\n",
    "X = Result_['Preprocess_Text']\n",
    "y = Result_['Emotion_value']\n",
    "\n",
    "# Create a ColumnTransformer to apply CountVectorizer to the 'Text' column\n",
    "preprocessor = ColumnTransformer(\n",
    "    transformers=[\n",
    "        ('text', CountVectorizer(), 'Preprocess_Text')\n",
    "    ],\n",
    "    remainder='passthrough'\n",
    ")\n",
    "\n",
    "# Fit and transform the data using the ColumnTransformer\n",
    "X_transformed = preprocessor.fit_transform(Result_)\n",
    "\n",
    "# Convert the transformed data into a DataFrame (optional)\n",
    "transformed_df = pd.DataFrame(X_transformed)\n",
    "\n",
    "# Print the transformed DataFrame\n",
    "print(transformed_df)\n"
   ]
  },
  {
   "cell_type": "code",
   "execution_count": null,
   "id": "7915296b-5ae2-4543-a5be-9c42963a90e2",
   "metadata": {},
   "outputs": [],
   "source": []
  },
  {
   "cell_type": "code",
   "execution_count": null,
   "id": "c7d4cc57-58b2-4c1d-b0c9-c8712f01caf7",
   "metadata": {},
   "outputs": [],
   "source": [
    "import pandas as pd\n",
    "\n",
    "# Assuming 'data' is your DataFrame with 'Text' and 'Emotion' columns\n",
    "\n",
    "# Filter the DataFrame to select only 50 samples for each emotion\n",
    "happy_samples = Result[Result['Emotion'] == 'happy'].head(50)\n",
    "sad_samples = data[data['Emotion'] == 'sad'].head(50)\n",
    "surprise_samples = data[data['Emotion'] == 'surprise'].head(50)\n",
    "angry_samples = data[data['Emotion'] == 'angry'].head(50)\n",
    "\n",
    "# Concatenate the filtered subsets together to create a new DataFrame\n",
    "new_data = pd.concat([happy_samples, sad_samples, surprise_samples, angry_samples], ignore_index=True)\n",
    "\n",
    "# Select only the 'Text' column\n",
    "new_data = new_data[['Text', 'Emotion']]\n",
    "\n",
    "# Print the new dataset\n",
    "print(new_data)\n"
   ]
  },
  {
   "cell_type": "code",
   "execution_count": 45,
   "id": "fe8bfa56-bd4f-4d7b-a9f5-7e906bf517cf",
   "metadata": {},
   "outputs": [
    {
     "data": {
      "text/html": [
       "<div>\n",
       "<style scoped>\n",
       "    .dataframe tbody tr th:only-of-type {\n",
       "        vertical-align: middle;\n",
       "    }\n",
       "\n",
       "    .dataframe tbody tr th {\n",
       "        vertical-align: top;\n",
       "    }\n",
       "\n",
       "    .dataframe thead th {\n",
       "        text-align: right;\n",
       "    }\n",
       "</style>\n",
       "<table border=\"1\" class=\"dataframe\">\n",
       "  <thead>\n",
       "    <tr style=\"text-align: right;\">\n",
       "      <th></th>\n",
       "      <th>Text</th>\n",
       "      <th>Emotion</th>\n",
       "      <th>Emotion_value</th>\n",
       "      <th>Preprocess_Text</th>\n",
       "    </tr>\n",
       "  </thead>\n",
       "  <tbody>\n",
       "    <tr>\n",
       "      <th>8</th>\n",
       "      <td>i have been with petronas for years i feel tha...</td>\n",
       "      <td>joy</td>\n",
       "      <td>0</td>\n",
       "      <td>petrona year feel petrona perform huge profit</td>\n",
       "    </tr>\n",
       "    <tr>\n",
       "      <th>11</th>\n",
       "      <td>i do feel that running is a divine experience ...</td>\n",
       "      <td>joy</td>\n",
       "      <td>0</td>\n",
       "      <td>feel running divine experience expect type spi...</td>\n",
       "    </tr>\n",
       "    <tr>\n",
       "      <th>14</th>\n",
       "      <td>i have immense sympathy with the general point...</td>\n",
       "      <td>joy</td>\n",
       "      <td>0</td>\n",
       "      <td>immense sympathy general point possible proto ...</td>\n",
       "    </tr>\n",
       "    <tr>\n",
       "      <th>15</th>\n",
       "      <td>i do not feel reassured anxiety is on each side</td>\n",
       "      <td>joy</td>\n",
       "      <td>0</td>\n",
       "      <td>feel reassure anxiety</td>\n",
       "    </tr>\n",
       "    <tr>\n",
       "      <th>22</th>\n",
       "      <td>i have the feeling she was amused and delighted</td>\n",
       "      <td>joy</td>\n",
       "      <td>0</td>\n",
       "      <td>feeling amuse delight</td>\n",
       "    </tr>\n",
       "  </tbody>\n",
       "</table>\n",
       "</div>"
      ],
      "text/plain": [
       "                                                 Text Emotion  Emotion_value  \\\n",
       "8   i have been with petronas for years i feel tha...     joy              0   \n",
       "11  i do feel that running is a divine experience ...     joy              0   \n",
       "14  i have immense sympathy with the general point...     joy              0   \n",
       "15    i do not feel reassured anxiety is on each side     joy              0   \n",
       "22    i have the feeling she was amused and delighted     joy              0   \n",
       "\n",
       "                                      Preprocess_Text  \n",
       "8       petrona year feel petrona perform huge profit  \n",
       "11  feel running divine experience expect type spi...  \n",
       "14  immense sympathy general point possible proto ...  \n",
       "15                              feel reassure anxiety  \n",
       "22                              feeling amuse delight  "
      ]
     },
     "execution_count": 45,
     "metadata": {},
     "output_type": "execute_result"
    }
   ],
   "source": [
    "happy_samples = Result[Result['Emotion'] == 'joy'].head(50)\n",
    "happy_samples.head()"
   ]
  },
  {
   "cell_type": "code",
   "execution_count": 40,
   "id": "398b220a-3fcf-47f8-be0f-4a252428a110",
   "metadata": {},
   "outputs": [
    {
     "name": "stdout",
     "output_type": "stream",
     "text": [
      "Empty DataFrame\n",
      "Columns: [Text, Emotion, Emotion_value, Preprocess_Text]\n",
      "Index: []\n"
     ]
    }
   ],
   "source": [
    "print(happy_samples)"
   ]
  },
  {
   "cell_type": "code",
   "execution_count": 44,
   "id": "4b4d9b91-5c69-4e8f-9da2-803725bd9bfb",
   "metadata": {},
   "outputs": [
    {
     "data": {
      "text/html": [
       "<div>\n",
       "<style scoped>\n",
       "    .dataframe tbody tr th:only-of-type {\n",
       "        vertical-align: middle;\n",
       "    }\n",
       "\n",
       "    .dataframe tbody tr th {\n",
       "        vertical-align: top;\n",
       "    }\n",
       "\n",
       "    .dataframe thead th {\n",
       "        text-align: right;\n",
       "    }\n",
       "</style>\n",
       "<table border=\"1\" class=\"dataframe\">\n",
       "  <thead>\n",
       "    <tr style=\"text-align: right;\">\n",
       "      <th></th>\n",
       "      <th>Text</th>\n",
       "      <th>Emotion</th>\n",
       "      <th>Emotion_value</th>\n",
       "      <th>Preprocess_Text</th>\n",
       "    </tr>\n",
       "  </thead>\n",
       "  <tbody>\n",
       "    <tr>\n",
       "      <th>0</th>\n",
       "      <td>i didnt feel humiliated</td>\n",
       "      <td>sadness</td>\n",
       "      <td>1</td>\n",
       "      <td>not feel humiliate</td>\n",
       "    </tr>\n",
       "    <tr>\n",
       "      <th>1</th>\n",
       "      <td>i can go from feeling so hopeless to so damned...</td>\n",
       "      <td>sadness</td>\n",
       "      <td>1</td>\n",
       "      <td>feel hopeless damned hopeful care awake</td>\n",
       "    </tr>\n",
       "    <tr>\n",
       "      <th>2</th>\n",
       "      <td>im grabbing a minute to post i feel greedy wrong</td>\n",
       "      <td>anger</td>\n",
       "      <td>2</td>\n",
       "      <td>m grab minute post feel greedy wrong</td>\n",
       "    </tr>\n",
       "    <tr>\n",
       "      <th>3</th>\n",
       "      <td>i am ever feeling nostalgic about the fireplac...</td>\n",
       "      <td>love</td>\n",
       "      <td>4</td>\n",
       "      <td>feel nostalgic fireplace know property</td>\n",
       "    </tr>\n",
       "    <tr>\n",
       "      <th>4</th>\n",
       "      <td>i am feeling grouchy</td>\n",
       "      <td>anger</td>\n",
       "      <td>2</td>\n",
       "      <td>feel grouchy</td>\n",
       "    </tr>\n",
       "  </tbody>\n",
       "</table>\n",
       "</div>"
      ],
      "text/plain": [
       "                                                Text  Emotion  Emotion_value  \\\n",
       "0                            i didnt feel humiliated  sadness              1   \n",
       "1  i can go from feeling so hopeless to so damned...  sadness              1   \n",
       "2   im grabbing a minute to post i feel greedy wrong    anger              2   \n",
       "3  i am ever feeling nostalgic about the fireplac...     love              4   \n",
       "4                               i am feeling grouchy    anger              2   \n",
       "\n",
       "                           Preprocess_Text  \n",
       "0                       not feel humiliate  \n",
       "1  feel hopeless damned hopeful care awake  \n",
       "2     m grab minute post feel greedy wrong  \n",
       "3   feel nostalgic fireplace know property  \n",
       "4                             feel grouchy  "
      ]
     },
     "execution_count": 44,
     "metadata": {},
     "output_type": "execute_result"
    }
   ],
   "source": [
    "Result.head()"
   ]
  },
  {
   "cell_type": "code",
   "execution_count": 46,
   "id": "e4fb1afa-077e-4478-a239-63058ce7f728",
   "metadata": {},
   "outputs": [
    {
     "data": {
      "text/plain": [
       "joy         6761\n",
       "sadness     5797\n",
       "anger       2709\n",
       "fear        2373\n",
       "love        1641\n",
       "surprise     719\n",
       "Name: Emotion, dtype: int64"
      ]
     },
     "execution_count": 46,
     "metadata": {},
     "output_type": "execute_result"
    }
   ],
   "source": [
    "Result['Emotion'].value_counts()"
   ]
  },
  {
   "cell_type": "code",
   "execution_count": 47,
   "id": "5401c17b-4cc9-4b6d-8c37-60385b3cf4ec",
   "metadata": {},
   "outputs": [
    {
     "name": "stdout",
     "output_type": "stream",
     "text": [
      "                                                   Text   Emotion  \\\n",
      "0     i have been with petronas for years i feel tha...       joy   \n",
      "1     i do feel that running is a divine experience ...       joy   \n",
      "2     i have immense sympathy with the general point...       joy   \n",
      "3       i do not feel reassured anxiety is on each side       joy   \n",
      "4       i have the feeling she was amused and delighted       joy   \n",
      "...                                                 ...       ...   \n",
      "4195  im watching my sodium which mostly means im fe...  surprise   \n",
      "4196  i was willing to be honest with myself and put...  surprise   \n",
      "4197  i could get fucking stuffed in fucking chocola...  surprise   \n",
      "4198  i am looking forward to how amazing it makes m...  surprise   \n",
      "4199  im not going to lie it feels really weird to b...  surprise   \n",
      "\n",
      "      Emotion_value                                    Preprocess_Text  \n",
      "0                 0      petrona year feel petrona perform huge profit  \n",
      "1                 0  feel running divine experience expect type spi...  \n",
      "2                 0  immense sympathy general point possible proto ...  \n",
      "3                 0                              feel reassure anxiety  \n",
      "4                 0                              feeling amuse delight  \n",
      "...             ...                                                ...  \n",
      "4195              5  m watch sodium mean m feel stunned overwhelmed...  \n",
      "4196              5                          willing honest feel shock  \n",
      "4197              5  fucking stuff fucking chocolate feel weird fat...  \n",
      "4198              5  look forward amazing make feel probably post d...  \n",
      "4199              5                    m go lie feel weird write right  \n",
      "\n",
      "[4200 rows x 4 columns]\n"
     ]
    }
   ],
   "source": [
    "import pandas as pd\n",
    "\n",
    "# Assuming 'data' is your DataFrame with 'Text' and 'Emotion' columns\n",
    "\n",
    "# Filter the DataFrame to select only 50 samples for each emotion\n",
    "joy_samples = Result[Result['Emotion'] == 'joy'].head(700)\n",
    "sad_samples = Result[Result['Emotion'] == 'sadness'].head(700)\n",
    "anger_samples = Result[Result['Emotion'] == 'anger'].head(700)\n",
    "fear_samples = Result[Result['Emotion'] == 'fear'].head(700)\n",
    "love_samples = Result[Result['Emotion'] == 'love'].head(700)\n",
    "surprise_samples = Result[Result['Emotion'] == 'surprise'].head(700)\n",
    "\n",
    "\n",
    "\n",
    "# Concatenate the filtered subsets together to create a new dataset\n",
    "new_data = pd.concat([joy_samples, sad_samples, anger_samples, fear_samples, love_samples, surprise_samples], ignore_index=True)\n",
    "\n",
    "# Print the new dataset\n",
    "print(new_data)\n"
   ]
  },
  {
   "cell_type": "code",
   "execution_count": 48,
   "id": "931ee3a7-e872-40a8-8bae-a3f80c75e785",
   "metadata": {},
   "outputs": [
    {
     "data": {
      "text/html": [
       "<div>\n",
       "<style scoped>\n",
       "    .dataframe tbody tr th:only-of-type {\n",
       "        vertical-align: middle;\n",
       "    }\n",
       "\n",
       "    .dataframe tbody tr th {\n",
       "        vertical-align: top;\n",
       "    }\n",
       "\n",
       "    .dataframe thead th {\n",
       "        text-align: right;\n",
       "    }\n",
       "</style>\n",
       "<table border=\"1\" class=\"dataframe\">\n",
       "  <thead>\n",
       "    <tr style=\"text-align: right;\">\n",
       "      <th></th>\n",
       "      <th>Text</th>\n",
       "      <th>Emotion</th>\n",
       "      <th>Emotion_value</th>\n",
       "      <th>Preprocess_Text</th>\n",
       "    </tr>\n",
       "  </thead>\n",
       "  <tbody>\n",
       "    <tr>\n",
       "      <th>0</th>\n",
       "      <td>i have been with petronas for years i feel tha...</td>\n",
       "      <td>joy</td>\n",
       "      <td>0</td>\n",
       "      <td>petrona year feel petrona perform huge profit</td>\n",
       "    </tr>\n",
       "    <tr>\n",
       "      <th>1</th>\n",
       "      <td>i do feel that running is a divine experience ...</td>\n",
       "      <td>joy</td>\n",
       "      <td>0</td>\n",
       "      <td>feel running divine experience expect type spi...</td>\n",
       "    </tr>\n",
       "    <tr>\n",
       "      <th>2</th>\n",
       "      <td>i have immense sympathy with the general point...</td>\n",
       "      <td>joy</td>\n",
       "      <td>0</td>\n",
       "      <td>immense sympathy general point possible proto ...</td>\n",
       "    </tr>\n",
       "    <tr>\n",
       "      <th>3</th>\n",
       "      <td>i do not feel reassured anxiety is on each side</td>\n",
       "      <td>joy</td>\n",
       "      <td>0</td>\n",
       "      <td>feel reassure anxiety</td>\n",
       "    </tr>\n",
       "    <tr>\n",
       "      <th>4</th>\n",
       "      <td>i have the feeling she was amused and delighted</td>\n",
       "      <td>joy</td>\n",
       "      <td>0</td>\n",
       "      <td>feeling amuse delight</td>\n",
       "    </tr>\n",
       "  </tbody>\n",
       "</table>\n",
       "</div>"
      ],
      "text/plain": [
       "                                                Text Emotion  Emotion_value  \\\n",
       "0  i have been with petronas for years i feel tha...     joy              0   \n",
       "1  i do feel that running is a divine experience ...     joy              0   \n",
       "2  i have immense sympathy with the general point...     joy              0   \n",
       "3    i do not feel reassured anxiety is on each side     joy              0   \n",
       "4    i have the feeling she was amused and delighted     joy              0   \n",
       "\n",
       "                                     Preprocess_Text  \n",
       "0      petrona year feel petrona perform huge profit  \n",
       "1  feel running divine experience expect type spi...  \n",
       "2  immense sympathy general point possible proto ...  \n",
       "3                              feel reassure anxiety  \n",
       "4                              feeling amuse delight  "
      ]
     },
     "execution_count": 48,
     "metadata": {},
     "output_type": "execute_result"
    }
   ],
   "source": [
    "new_data.head()"
   ]
  },
  {
   "cell_type": "code",
   "execution_count": 50,
   "id": "7fbaf5f9-a457-4259-8b33-9a3de5349f80",
   "metadata": {},
   "outputs": [
    {
     "name": "stdout",
     "output_type": "stream",
     "text": [
      "<class 'pandas.core.frame.DataFrame'>\n",
      "RangeIndex: 4200 entries, 0 to 4199\n",
      "Data columns (total 4 columns):\n",
      " #   Column           Non-Null Count  Dtype \n",
      "---  ------           --------------  ----- \n",
      " 0   Text             4200 non-null   object\n",
      " 1   Emotion          4200 non-null   object\n",
      " 2   Emotion_value    4200 non-null   int64 \n",
      " 3   Preprocess_Text  4200 non-null   object\n",
      "dtypes: int64(1), object(3)\n",
      "memory usage: 131.4+ KB\n"
     ]
    }
   ],
   "source": [
    "new_data.info()"
   ]
  },
  {
   "cell_type": "code",
   "execution_count": 51,
   "id": "a6357fb1-d430-498a-aea6-796dc0433c78",
   "metadata": {},
   "outputs": [
    {
     "name": "stdout",
     "output_type": "stream",
     "text": [
      "              precision    recall  f1-score   support\n",
      "\n",
      "           0       0.72      0.55      0.62       140\n",
      "           1       0.62      0.75      0.68       140\n",
      "           2       0.82      0.80      0.81       140\n",
      "           3       0.89      0.73      0.80       140\n",
      "           4       0.80      0.91      0.85       140\n",
      "           5       0.89      0.96      0.92       140\n",
      "\n",
      "    accuracy                           0.78       840\n",
      "   macro avg       0.79      0.78      0.78       840\n",
      "weighted avg       0.79      0.78      0.78       840\n",
      "\n"
     ]
    }
   ],
   "source": [
    "# so the data is balanced so we can give emphasis to accuracy in classification reports\n",
    "\n",
    "# we will preoceed with train test split algorithm\n",
    "\n",
    "from sklearn.model_selection import train_test_split\n",
    "X = new_data['Preprocess_Text']\n",
    "y = new_data['Emotion_value']\n",
    "\n",
    "X_train,X_test,y_train,y_test = train_test_split(X, y, test_size=0.20, random_state=101, stratify=new_data.Emotion_value)\n",
    " \n",
    "# Importing the libraries just for differentiating between different algorithms\n",
    "\n",
    "from sklearn.feature_extraction.text import CountVectorizer\n",
    "from sklearn.pipeline import Pipeline\n",
    "from sklearn.ensemble import RandomForestClassifier\n",
    "\n",
    "# Random Forest \n",
    "\n",
    "\n",
    "Random_clf = Pipeline([\n",
    "    ('vectorizer', CountVectorizer()),\n",
    "    ('RF', RandomForestClassifier(n_estimators=50, criterion='entropy', random_state=101))\n",
    "])    \n",
    "    \n",
    "Random_clf.fit(X_train, y_train)\n",
    "\n",
    "y_pred = Random_clf.predict(X_test)\n",
    "\n",
    "print(classification_report(y_test, y_pred))"
   ]
  },
  {
   "cell_type": "code",
   "execution_count": 52,
   "id": "29759783-6d33-4af0-8e42-836b4a256bec",
   "metadata": {},
   "outputs": [
    {
     "name": "stdout",
     "output_type": "stream",
     "text": [
      "              precision    recall  f1-score   support\n",
      "\n",
      "           0       0.35      0.35      0.35       140\n",
      "           1       0.36      0.49      0.41       140\n",
      "           2       0.45      0.47      0.46       140\n",
      "           3       0.50      0.42      0.46       140\n",
      "           4       0.60      0.38      0.46       140\n",
      "           5       0.68      0.75      0.71       140\n",
      "\n",
      "    accuracy                           0.48       840\n",
      "   macro avg       0.49      0.48      0.48       840\n",
      "weighted avg       0.49      0.48      0.48       840\n",
      "\n"
     ]
    }
   ],
   "source": [
    "# K nearest Neighbors Classifier\n",
    "\n",
    "from  sklearn.neighbors import KNeighborsClassifier\n",
    "\n",
    "KNN_clf = Pipeline([\n",
    "    ('vectorizer', CountVectorizer()),\n",
    "    ('KNN', KNeighborsClassifier(n_neighbors=5,metric='euclidean'))\n",
    "])    \n",
    "\n",
    "KNN_clf.fit(X_train, y_train)\n",
    "y_pred = KNN_clf.predict(X_test)\n",
    "\n",
    "print(classification_report(y_test, y_pred))\n"
   ]
  },
  {
   "cell_type": "code",
   "execution_count": 53,
   "id": "8c394ce5-2208-4b82-9f40-e493564d5739",
   "metadata": {},
   "outputs": [
    {
     "name": "stdout",
     "output_type": "stream",
     "text": [
      "              precision    recall  f1-score   support\n",
      "\n",
      "           0       0.74      0.66      0.70       140\n",
      "           1       0.71      0.61      0.66       140\n",
      "           2       0.72      0.74      0.73       140\n",
      "           3       0.70      0.67      0.68       140\n",
      "           4       0.76      0.87      0.81       140\n",
      "           5       0.80      0.91      0.85       140\n",
      "\n",
      "    accuracy                           0.74       840\n",
      "   macro avg       0.74      0.74      0.74       840\n",
      "weighted avg       0.74      0.74      0.74       840\n",
      "\n"
     ]
    }
   ],
   "source": [
    "# Multinomial Naive Bayes\n",
    "\n",
    "from sklearn.naive_bayes import MultinomialNB\n",
    "\n",
    "NB_clf = Pipeline([\n",
    "    ('vectorizer', CountVectorizer()),\n",
    "    ('NB', MultinomialNB())\n",
    "])    \n",
    "\n",
    "NB_clf.fit(X_train, y_train)\n",
    "y_pred = NB_clf.predict(X_test)\n",
    "\n",
    "print(classification_report(y_test, y_pred))"
   ]
  },
  {
   "cell_type": "markdown",
   "id": "b93e97c7-8642-456a-baac-c07d698ed353",
   "metadata": {},
   "source": [
    "## Multinomial Naive Bayes has performed best."
   ]
  },
  {
   "cell_type": "code",
   "execution_count": null,
   "id": "35d95d01-c4ed-4e14-8829-af0a02cfa2cd",
   "metadata": {},
   "outputs": [],
   "source": []
  }
 ],
 "metadata": {
  "kernelspec": {
   "display_name": "Python 3 (ipykernel)",
   "language": "python",
   "name": "python3"
  },
  "language_info": {
   "codemirror_mode": {
    "name": "ipython",
    "version": 3
   },
   "file_extension": ".py",
   "mimetype": "text/x-python",
   "name": "python",
   "nbconvert_exporter": "python",
   "pygments_lexer": "ipython3",
   "version": "3.11.5"
  }
 },
 "nbformat": 4,
 "nbformat_minor": 5
}
